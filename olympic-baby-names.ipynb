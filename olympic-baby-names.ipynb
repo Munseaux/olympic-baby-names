{
 "cells": [
  {
   "cell_type": "code",
   "execution_count": 1,
   "metadata": {},
   "outputs": [],
   "source": [
    "import pandas as pd \n",
    "from sqlalchemy import create_engine\n"
   ]
  },
  {
   "cell_type": "code",
   "execution_count": 2,
   "metadata": {},
   "outputs": [],
   "source": [
    "summer_path = \"datums/summer.csv\"\n",
    "winter_path = 'datums/winter.csv'\n",
    "dictionary_path = 'datums/dictionary.csv'\n",
    "baby_names_path = 'datums/NationalNames.csv'\n",
    "\n"
   ]
  },
  {
   "cell_type": "code",
   "execution_count": 3,
   "metadata": {},
   "outputs": [],
   "source": [
    "#combine summer and winter into one table. add season column. \n",
    "summer_df = pd.read_csv(summer_path)\n",
    "winter_df = pd.read_csv(winter_path)\n",
    "\n",
    "summer_df['Season'] = \"Summer\"\n",
    "winter_df['Season'] = \"Winter\"\n",
    "\n",
    "olympic_df = summer_df.append(winter_df)\n",
    "\n",
    "#filter by years in the baby names database\n",
    "olympic_df = olympic_df[olympic_df['Year'] >= 1896]\n",
    "olympic_df = olympic_df[olympic_df['Year'] <= 2015]\n",
    "\n",
    "#get first names from the Athelete column\n",
    "olympic_df['FirstName'] = olympic_df.Athlete.str.split(\",\",expand = True)[1]\n",
    "\n",
    "olympic_df['FirstName'] = olympic_df.FirstName.str.split(expand = True)[0]\n",
    "\n",
    "olympic_df['Initial'] = olympic_df.FirstName.str.find(\".\")\n",
    "\n",
    "olympic_df = olympic_df[olympic_df[\"Initial\"] == -1]\n",
    "\n",
    "olympic_df = olympic_df.drop(\"Initial\", axis=1)\n",
    "\n",
    "olympic_df\n",
    "\n",
    "olympic_df.to_csv(\"Output/olympics.csv\", index = False)"
   ]
  },
  {
   "cell_type": "code",
   "execution_count": 4,
   "metadata": {},
   "outputs": [],
   "source": [
    "UniqueFirst = list(olympic_df.FirstName.unique())\n",
    "# print(UniqueFirst)"
   ]
  },
  {
   "cell_type": "code",
   "execution_count": 5,
   "metadata": {},
   "outputs": [],
   "source": [
    "baby_df = pd.read_csv(baby_names_path)\n",
    "baby_df = baby_df[baby_df[\"Name\"].isin(UniqueFirst)]\n",
    "baby_df.to_csv(\"Output/babynameslimit.csv\", index = False)\n"
   ]
  },
  {
   "cell_type": "code",
   "execution_count": 6,
   "metadata": {},
   "outputs": [],
   "source": [
    "baby = baby_df.groupby(['Name','Year'])[\"Count\"].sum()\n",
    "\n",
    "baby.to_csv(\"Output/babynames.csv\", index = True)"
   ]
  },
  {
   "cell_type": "code",
   "execution_count": null,
   "metadata": {},
   "outputs": [],
   "source": []
  },
  {
   "cell_type": "code",
   "execution_count": null,
   "metadata": {},
   "outputs": [],
   "source": []
  }
 ],
 "metadata": {
  "kernelspec": {
   "display_name": "Python 3",
   "language": "python",
   "name": "python3"
  },
  "language_info": {
   "codemirror_mode": {
    "name": "ipython",
    "version": 3
   },
   "file_extension": ".py",
   "mimetype": "text/x-python",
   "name": "python",
   "nbconvert_exporter": "python",
   "pygments_lexer": "ipython3",
   "version": "3.6.10"
  }
 },
 "nbformat": 4,
 "nbformat_minor": 4
}
